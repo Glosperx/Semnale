{
 "cells": [
  {
   "cell_type": "code",
   "execution_count": 12,
   "id": "735161a0",
   "metadata": {},
   "outputs": [],
   "source": [
    "import numpy as np\n",
    "from scipy import integrate\n",
    "from scipy.integrate import quad\n",
    "from scipy.integrate import fixed_quad"
   ]
  },
  {
   "cell_type": "markdown",
   "id": "e0ee98b3",
   "metadata": {},
   "source": [
    "Exercitiul 4\n"
   ]
  },
  {
   "cell_type": "code",
   "execution_count": null,
   "id": "2354714a",
   "metadata": {},
   "outputs": [
    {
     "name": "stdout",
     "output_type": "stream",
     "text": [
      "[10 16  0]\n"
     ]
    }
   ],
   "source": [
    "A = np.array([\n",
    "    [1, 0, 3],\n",
    "    [2, -1, 5],\n",
    "    [0, 7, 0]\n",
    "])\n",
    "\n",
    "v = np.array([-2, 0, 4])\n",
    "\n",
    "result = A@v\n",
    "\n",
    "print(result)\n"
   ]
  },
  {
   "cell_type": "markdown",
   "id": "cc6bf55a",
   "metadata": {},
   "source": [
    "Exercitiul 5\n"
   ]
  },
  {
   "cell_type": "code",
   "execution_count": 15,
   "id": "ac8f8652",
   "metadata": {},
   "outputs": [
    {
     "name": "stdout",
     "output_type": "stream",
     "text": [
      "2.3504023872876028\n",
      "2.609470847500631e-14\n"
     ]
    }
   ],
   "source": [
    "f=lambda x: np.exp(x)\n",
    "\n",
    "result, error = quad(f, -1, 1)\n",
    "\n",
    "print(result)\n",
    "print(error)\n"
   ]
  },
  {
   "cell_type": "markdown",
   "id": "91c66da3",
   "metadata": {},
   "source": [
    "Exercitiul 6"
   ]
  },
  {
   "cell_type": "code",
   "execution_count": 16,
   "id": "f6914851",
   "metadata": {},
   "outputs": [
    {
     "name": "stdout",
     "output_type": "stream",
     "text": [
      "(1.249000902703301e-16+0.6366198074722192j) \n",
      " None\n"
     ]
    }
   ],
   "source": [
    "f=lambda x: np.exp(1j * np.pi * x)\n",
    "\n",
    "result,error = integrate.fixed_quad(f,0,1)\n",
    "\n",
    "print(result,\"\\n\",error)\n"
   ]
  }
 ],
 "metadata": {
  "kernelspec": {
   "display_name": "ML",
   "language": "python",
   "name": "python3"
  },
  "language_info": {
   "codemirror_mode": {
    "name": "ipython",
    "version": 3
   },
   "file_extension": ".py",
   "mimetype": "text/x-python",
   "name": "python",
   "nbconvert_exporter": "python",
   "pygments_lexer": "ipython3",
   "version": "3.9.16"
  }
 },
 "nbformat": 4,
 "nbformat_minor": 5
}
